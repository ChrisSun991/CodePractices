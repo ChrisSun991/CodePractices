{
 "cells": [
  {
   "cell_type": "markdown",
   "metadata": {
    "collapsed": true,
    "pycharm": {
     "name": "#%% md\n"
    }
   },
   "source": [
    "Problem Statement\n",
    "Given a forest with edge representation, find the number of trees in the forest.\n",
    "https://prepfortech.in/interview-topics/graphs/depth-first-search/count-number-of-trees-in-a-forest/"
   ]
  },
  {
   "cell_type": "code",
   "execution_count": 13,
   "outputs": [],
   "source": [
    "def addEdge(adj,u,v):\n",
    "    adj[u].append(v)\n",
    "    adj[v].append(u)"
   ],
   "metadata": {
    "collapsed": false,
    "pycharm": {
     "name": "#%%\n"
    }
   }
  },
  {
   "cell_type": "code",
   "execution_count": 14,
   "outputs": [],
   "source": [
    "def DFSUtil(u, adj, visited):\n",
    "    visited[u] = True\n",
    "    for i in range(len(adj[u])):\n",
    "        if not (visited[adj[u][i]]):\n",
    "            DFSUtil(adj[u][i], adj, visited)\n"
   ],
   "metadata": {
    "collapsed": false,
    "pycharm": {
     "name": "#%%\n"
    }
   }
  },
  {
   "cell_type": "code",
   "execution_count": 15,
   "outputs": [],
   "source": [
    "def countTrees(adj, V):\n",
    "    visited = [False] * V\n",
    "    res = 0\n",
    "    for u in range (V):\n",
    "        if (visited[u] == False):\n",
    "            DFSUtil(u, adj, visited)\n",
    "            res += 1\n",
    "    return res"
   ],
   "metadata": {
    "collapsed": false,
    "pycharm": {
     "name": "#%%\n"
    }
   }
  },
  {
   "cell_type": "code",
   "execution_count": 16,
   "outputs": [],
   "source": [
    "V = 7\n",
    "adj = [[] for i in range(V)]\n"
   ],
   "metadata": {
    "collapsed": false,
    "pycharm": {
     "name": "#%%\n"
    }
   }
  },
  {
   "cell_type": "code",
   "execution_count": 16,
   "outputs": [],
   "source": [],
   "metadata": {
    "collapsed": false,
    "pycharm": {
     "name": "#%%\n"
    }
   }
  },
  {
   "cell_type": "code",
   "execution_count": 17,
   "outputs": [],
   "source": [
    "addEdge(adj,0,1)\n",
    "addEdge(adj,0,2)\n",
    "addEdge(adj,3,4)\n",
    "addEdge(adj,4,5)\n",
    "addEdge(adj,5,6)"
   ],
   "metadata": {
    "collapsed": false,
    "pycharm": {
     "name": "#%%\n"
    }
   }
  },
  {
   "cell_type": "code",
   "execution_count": 18,
   "outputs": [
    {
     "data": {
      "text/plain": "2"
     },
     "execution_count": 18,
     "metadata": {},
     "output_type": "execute_result"
    }
   ],
   "source": [
    "countTrees(adj, V)"
   ],
   "metadata": {
    "collapsed": false,
    "pycharm": {
     "name": "#%%\n"
    }
   }
  },
  {
   "cell_type": "markdown",
   "source": [
    "Approach :\n",
    "\n",
    " Apply DFS on every node.\n",
    "Increment count by one if every connected node is visited from one source.\n",
    "Again perform DFS traversal if some nodes yet not visited.\n",
    " Count will give the number of trees in forest."
   ],
   "metadata": {
    "collapsed": false
   }
  },
  {
   "cell_type": "markdown",
   "source": [
    "Time Complexity O(V+E)"
   ],
   "metadata": {
    "collapsed": false
   }
  },
  {
   "cell_type": "code",
   "execution_count": null,
   "outputs": [],
   "source": [],
   "metadata": {
    "collapsed": false,
    "pycharm": {
     "name": "#%%\n"
    }
   }
  }
 ],
 "metadata": {
  "kernelspec": {
   "display_name": "Python 3",
   "language": "python",
   "name": "python3"
  },
  "language_info": {
   "codemirror_mode": {
    "name": "ipython",
    "version": 2
   },
   "file_extension": ".py",
   "mimetype": "text/x-python",
   "name": "python",
   "nbconvert_exporter": "python",
   "pygments_lexer": "ipython2",
   "version": "2.7.6"
  }
 },
 "nbformat": 4,
 "nbformat_minor": 0
}