{
 "cells": [
  {
   "cell_type": "markdown",
   "metadata": {
    "collapsed": true,
    "pycharm": {
     "name": "#%% md\n"
    }
   },
   "source": [
    "Given a directed weighted graph with possibly negative edge weights, how to detect the presence of a negative edge weight cycle in the graph ?\n",
    "https://prepfortech.in/interview-topics/graphs/how-to-detect-negative-edge-weight-cycle-in-a-graph/\n"
   ]
  },
  {
   "cell_type": "markdown",
   "source": [
    "What is a negative edge weight cycle ?\n",
    "The weight of a cycle in a graph is the sum of all the edge weights in the cycle for the graph. For example, in the graph given below there are multiple cycles :\n",
    "\n",
    "0-2-3-1-0 : The weight of this cycle is -2 + 2 + (-1) + 4 = 3\n",
    "1-2-3-1: The weight of this cycle is (-3) + 2 + (-1) = -2\n",
    "Since the weight of the 2nd cycle is negative, hence it is a negative edge weight cycle in the graph."
   ],
   "metadata": {
    "collapsed": false
   }
  },
  {
   "cell_type": "markdown",
   "source": [
    "How to detect negative edge weight cycle in a graph ?\n",
    "To detect negative edge weight cycle, we will be using Floyd Warshall algorithm, which is a dynamic programming based approach. It is also used to solve the shortest path problem.\n",
    "\n",
    "The idea behind Floyd Warshall algorithm is to iterate over all the edges exactly n times sequentially and prepare a matrix which stores the distance b/w any two nodes. At the end of the algorithm, the matrix will contain the shortest distance b/w any two pair of nodes."
   ],
   "metadata": {
    "collapsed": false
   }
  },
  {
   "cell_type": "markdown",
   "source": [
    "Let’s say there is a negative edge weight cycle b/w any two nodes (i,i), the value stored at matrix[i][i] will be negative. Therefore, at the completion of the Floyd Warshall algorithm, we can just check the value at matrix[i][i] for all the values of i. If even one of them is negative, it means that there is a negative edge weight cycle in the graph.\n",
    "\n"
   ],
   "metadata": {
    "collapsed": false
   }
  },
  {
   "cell_type": "code",
   "execution_count": 1,
   "outputs": [
    {
     "data": {
      "text/plain": "False"
     },
     "execution_count": 1,
     "metadata": {},
     "output_type": "execute_result"
    }
   ],
   "source": [
    "INF = float('inf')\n",
    "N = 4\n",
    "def FloydWarshell(adjMat):\n",
    "    cost = [[adjMat[v][u] for u in range(N)] for v in range(N)]\n",
    "    for k in range(N):\n",
    "        for v in range(N):\n",
    "            for u in range(N):\n",
    "                # if vertex k is on the shortest path from v to u\n",
    "                #update the value of cost[v][u]\n",
    "                if cost[v][k] != INF and cost [k][u] != INF and cost [v][k] + cost[k][u] < cost[v][u]:\n",
    "                    cost[v][u] = cost[v][k] + cost[k][u]\n",
    "                #if diagonal elements become neg, the graph containts negative weight cycle\n",
    "                if cost[v][v] <0:\n",
    "                    return False\n",
    "    return True\n",
    "\n",
    "adjMatrix = [\n",
    "[0, INF, -2, INF],\n",
    "[4, 0, -3, INF],\n",
    "[INF, INF, 0, 2],\n",
    "[INF, -1, INF, 0]\n",
    "]\n",
    "FloydWarshell(adjMat=adjMatrix)"
   ],
   "metadata": {
    "collapsed": false,
    "pycharm": {
     "name": "#%%\n"
    }
   }
  },
  {
   "cell_type": "code",
   "execution_count": null,
   "outputs": [],
   "source": [],
   "metadata": {
    "collapsed": false,
    "pycharm": {
     "name": "#%%\n"
    }
   }
  }
 ],
 "metadata": {
  "kernelspec": {
   "display_name": "Python 3",
   "language": "python",
   "name": "python3"
  },
  "language_info": {
   "codemirror_mode": {
    "name": "ipython",
    "version": 2
   },
   "file_extension": ".py",
   "mimetype": "text/x-python",
   "name": "python",
   "nbconvert_exporter": "python",
   "pygments_lexer": "ipython2",
   "version": "2.7.6"
  }
 },
 "nbformat": 4,
 "nbformat_minor": 0
}