{
 "cells": [
  {
   "cell_type": "markdown",
   "metadata": {
    "collapsed": true,
    "pycharm": {
     "name": "#%% md\n"
    }
   },
   "source": [
    "#### 6. Z 字形变换\n",
    "###### 将一个给定字符串 `s` 根据给定的行数 `numRows` ，以从上往下、从左到右进行 Z 字形排列。\n",
    "###### The string `\"PAYPALISHIRING\"` is written in a zigzag pattern on a given number of rows like this: (you may want to display this pattern in a fixed font for better legibility)\n",
    "###### 比如输入字符串为 `\"PAYPALISHIRING\"` 行数为 `3` 时，排列如下：\n",
    "\n",
    "```\n",
    "P   A   H   N\n",
    "A P L S I I G\n",
    "Y   I   R\n",
    "```\n",
    "###### 之后，你的输出需要从左往右逐行读取，产生出一个新的字符串，比如：`\"PAHNAPLSIIGYIR\"`。\n",
    "###### And then read line by line: `\"PAHNAPLSIIGYIR\"`\n",
    "###### 请你实现这个将字符串进行指定行数变换的函数：\n",
    "###### Write the code that will take a string and make this conversion given a number of rows:\n",
    "\n",
    "`string convert(string s, int numRows);`\n",
    "\n",
    "\n",
    "###### 示例 Example 1：\n",
    "```\n",
    "输入 Input：s = \"PAYPALISHIRING\", numRows = 3\n",
    "输出 Output：\"PAHNAPLSIIGYIR\"\n",
    "```\n",
    "###### 示例 Example 2：\n",
    "```\n",
    "输入 Input：s = \"PAYPALISHIRING\", numRows = 4\n",
    "输出 Output：\"PINALSIGYAHRPI\"\n",
    "解释 Description：\n",
    "P     I    N\n",
    "A   L S  I G\n",
    "Y A   H R\n",
    "P     I\n",
    "```\n",
    "###### 示例 Example3：\n",
    "```\n",
    "输入 Input：s = \"A\", numRows = 1\n",
    "输出 Output：\"A\"\n",
    "```\n",
    "\n",
    "###### 提示：\n",
    "###### <ul>\n",
    "###### <li> `1 <= s.length <= 1000 `</li>\n",
    "###### <li> `s` 由英文字母（小写和大写）、`','` 和 `'.'` 组成 `s` consists of English letters (lower-case and upper-case), `','` and `'.'`.</li>\n",
    "###### <li> `1 <= numRows <= 1000 `</li>\n",
    "###### </ul>\n",
    "\n"
   ]
  }
 ],
 "metadata": {
  "kernelspec": {
   "display_name": "Python 3",
   "language": "python",
   "name": "python3"
  },
  "language_info": {
   "codemirror_mode": {
    "name": "ipython",
    "version": 2
   },
   "file_extension": ".py",
   "mimetype": "text/x-python",
   "name": "python",
   "nbconvert_exporter": "python",
   "pygments_lexer": "ipython2",
   "version": "2.7.6"
  }
 },
 "nbformat": 4,
 "nbformat_minor": 0
}