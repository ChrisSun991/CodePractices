{
 "cells": [
  {
   "cell_type": "markdown",
   "metadata": {
    "collapsed": true,
    "pycharm": {
     "name": "#%% md\n"
    }
   },
   "source": [
    "Problem Statement\n",
    "Given the directed, connected and unweighted graph G, a Source and a Destination and the task to find the shortest path possible between two given vertices in the graph.\n",
    "\n",
    "Note: The path does not contain any cycle which means path have finite number of vertices.\n",
    "https://prepfortech.in/interview-topics/graphs/bfs/shortest-path-in-an-unweighted-graph/"
   ]
  },
  {
   "cell_type": "markdown",
   "source": [],
   "metadata": {
    "collapsed": false
   }
  },
  {
   "cell_type": "code",
   "execution_count": 4,
   "outputs": [],
   "source": [
    "from typing import Dict, List\n",
    "def shortestPath_BFS(graph: Dict[int, set], node1: int, node2: int) -> List[int]:\n",
    "    path_list = [[node1]]\n",
    "    path_index = 0\n",
    "\n",
    "    previous_nodes = {node1} #check visited nodes\n",
    "\n",
    "    if node1==node2:\n",
    "        return path_list[0] ##safe case\n",
    "\n",
    "    while path_index < len(path_list): #search\n",
    "        current_path = path_list[path_index] #get current path for browsing\n",
    "        last_node = current_path[-1] #retrieve node for browsing\n",
    "        next_nodes = graph[last_node] #browse dictionary for next search\n",
    "\n",
    "        #search goal node\n",
    "        if node2 in next_nodes:# if found match in next search\n",
    "            current_path.append(node2) #append shortest path\n",
    "            return current_path #return shortest path\n",
    "\n",
    "        for next_node in next_nodes:\n",
    "            if not next_node in previous_nodes:\n",
    "                new_path = current_path[:] # returns complete copy of original list (shallow copy)\n",
    "                new_path.append(next_node)\n",
    "                path_list.append(new_path)\n",
    "\n",
    "                previous_nodes.add(next_node) #add to set\n",
    "\n",
    "        path_index += 1\n",
    "\n",
    "    return []\n",
    "\n"
   ],
   "metadata": {
    "collapsed": false,
    "pycharm": {
     "name": "#%%\n"
    }
   }
  },
  {
   "cell_type": "code",
   "execution_count": 6,
   "outputs": [
    {
     "data": {
      "text/plain": "[1, 4]"
     },
     "execution_count": 6,
     "metadata": {},
     "output_type": "execute_result"
    }
   ],
   "source": [
    "dict= {}\n",
    "\n",
    "dict[1] = {2,3,4}\n",
    "dict[2] = {4}\n",
    "dict[3] = {2,4}\n",
    "dict[4] = {}\n",
    "\n",
    "shortestPath_BFS(dict, 1,4)"
   ],
   "metadata": {
    "collapsed": false,
    "pycharm": {
     "name": "#%%\n"
    }
   }
  },
  {
   "cell_type": "markdown",
   "source": [
    "Time Complexity = O(V+E)\n",
    "Space = O(V)"
   ],
   "metadata": {
    "collapsed": false
   }
  },
  {
   "cell_type": "code",
   "execution_count": null,
   "outputs": [],
   "source": [],
   "metadata": {
    "collapsed": false,
    "pycharm": {
     "name": "#%%\n"
    }
   }
  }
 ],
 "metadata": {
  "kernelspec": {
   "name": "python3",
   "language": "python",
   "display_name": "Python 3 (ipykernel)"
  },
  "language_info": {
   "codemirror_mode": {
    "name": "ipython",
    "version": 2
   },
   "file_extension": ".py",
   "mimetype": "text/x-python",
   "name": "python",
   "nbconvert_exporter": "python",
   "pygments_lexer": "ipython2",
   "version": "2.7.6"
  }
 },
 "nbformat": 4,
 "nbformat_minor": 0
}