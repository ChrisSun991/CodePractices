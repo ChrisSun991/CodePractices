{
 "cells": [
  {
   "cell_type": "markdown",
   "metadata": {
    "collapsed": true,
    "pycharm": {
     "name": "#%% md\n"
    }
   },
   "source": [
    "Given an array of n elements, replace each element of the array by its corresponding rank. The rank of the lowest element is 1 and the highest element is n. Take a look at the example given below:"
   ]
  },
  {
   "cell_type": "markdown",
   "source": [
    "Input   :  2, 5, 3, 7, 6\n",
    "Output:  1, 3,  2, 5, 4\n",
    "Explanation: Since 2 is the smallest element in the array, its rank is 1, 3 is the second smallest element its rank is 2 and so on.\n",
    "https://prepfortech.in/interview-topics/hash-table/replace-each-element-of-an-array-by-its-corresponding-rank/"
   ],
   "metadata": {
    "collapsed": false
   }
  },
  {
   "cell_type": "code",
   "execution_count": 8,
   "outputs": [
    {
     "name": "stdout",
     "output_type": "stream",
     "text": [
      "[3, 1, 2, 1]\n"
     ]
    }
   ],
   "source": [
    "def changeArr(i):\n",
    "    newArray = i[:]\n",
    "    newArray.sort()\n",
    "\n",
    "    ranks = {} #hashmap\n",
    "    rank = 1\n",
    "    for ind in range(len(newArray)):\n",
    "        elem = newArray[ind]\n",
    "        if elem not in ranks:\n",
    "            ranks[elem] = rank\n",
    "            rank += 1\n",
    "    for ind in range(len(i)):\n",
    "        elem = i[ind]\n",
    "        i[ind] = ranks[i[ind]]\n",
    "\n",
    "arr = [ 100, 2, 70, 2 ]\n",
    "changeArr(arr)\n",
    "print(arr)"
   ],
   "metadata": {
    "collapsed": false,
    "pycharm": {
     "name": "#%%\n"
    }
   }
  },
  {
   "cell_type": "markdown",
   "source": [
    "Time Complexity = O(NLogN)"
   ],
   "metadata": {
    "collapsed": false
   }
  }
 ],
 "metadata": {
  "kernelspec": {
   "display_name": "Python 3",
   "language": "python",
   "name": "python3"
  },
  "language_info": {
   "codemirror_mode": {
    "name": "ipython",
    "version": 2
   },
   "file_extension": ".py",
   "mimetype": "text/x-python",
   "name": "python",
   "nbconvert_exporter": "python",
   "pygments_lexer": "ipython2",
   "version": "2.7.6"
  }
 },
 "nbformat": 4,
 "nbformat_minor": 0
}