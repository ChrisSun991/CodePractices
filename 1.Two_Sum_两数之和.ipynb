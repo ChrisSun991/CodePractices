{
 "cells": [
  {
   "cell_type": "markdown",
   "metadata": {
    "collapsed": true,
    "pycharm": {
     "name": "#%% md\n"
    }
   },
   "source": [
    "#### 1. 两数之和\n",
    "###### 给定一个整数数组 `nums` 和一个整数目标值 `target`，请你在该数组中找出 和为目标值 的那 两个 整数，并返回它们的数组下标。\n",
    "###### Given an array of integers `nums` and an integer `target`, return <i>indices of the two numbers such that they add up to `target` </i>.\n",
    "\n",
    "###### 你可以假设每种输入只会对应一个答案。但是，数组中同一个元素不能使用两遍。\n",
    "###### You may assume that each input would have <b>exactly one solution</b>, and you may not use the <i>same</i> element twice.\n",
    "\n",
    "###### 你可以按任意顺序返回答案。\n",
    "###### You can return the answer in any order.\n",
    "\n",
    "###### 示例 1 Example 1:\n",
    "```\n",
    "输入 Input：nums = [2,7,11,15], target = 9\n",
    "输出 Output：[0,1]\n",
    "解释 Description：因为 because nums[0] + nums[1] == 9 ，返回 returns [0, 1] 。\n",
    "```\n",
    "\n",
    "###### 示例 2：\n",
    "```\n",
    "输入 Input：nums = [3,2,4], target = 6\n",
    "输出 Output：[1,2]\n",
    "```\n",
    "\n",
    "###### 示例 3：\n",
    "```\n",
    "输入 Input：nums = [3,3], target = 6\n",
    "输出 Output：[0,1]\n",
    "```\n",
    "\n",
    "###### 提示 Constraints：\n",
    "###### <ul>\n",
    "###### <li> 2 <= nums.length <= 103</li>\n",
    "###### <li> -109 <= nums[i] <= 109 </li>\n",
    "###### <li> -109 <= target <= 109 </li>\n",
    "###### <li> 只会存在一个有效答案 <b>Only one valid answer exists.</b></li>\n",
    "###### </ul>\n",
    "\n",
    "###### url: https://leetcode-cn.com/problems/two-sum/"
   ]
  },
  {
   "cell_type": "code",
   "execution_count": 2,
   "outputs": [
    {
     "data": {
      "text/plain": "[0, 1]"
     },
     "execution_count": 2,
     "metadata": {},
     "output_type": "execute_result"
    }
   ],
   "source": [
    "class Solution:\n",
    "    def twoSum(self, nums: [int], target: int) -> [int]:\n",
    "        found = False\n",
    "        result =[]\n",
    "\n",
    "        for i in range (len(nums)):\n",
    "            for j in range (i+1,len(nums)):\n",
    "                if nums[i] + nums[j] == target:\n",
    "                    found = True\n",
    "                    result.append(i)\n",
    "                    result.append(j)\n",
    "        return result\n",
    "Solution.twoSum(Solution,[2,7,11,15],9)"
   ],
   "metadata": {
    "collapsed": false,
    "pycharm": {
     "name": "#%%\n"
    }
   }
  },
  {
   "cell_type": "code",
   "execution_count": 3,
   "outputs": [
    {
     "data": {
      "text/plain": "[1, 2]"
     },
     "execution_count": 3,
     "metadata": {},
     "output_type": "execute_result"
    }
   ],
   "source": [
    "Solution.twoSum(Solution,[3,2,4],6)"
   ],
   "metadata": {
    "collapsed": false,
    "pycharm": {
     "name": "#%%\n"
    }
   }
  },
  {
   "cell_type": "code",
   "execution_count": 4,
   "outputs": [
    {
     "data": {
      "text/plain": "[0, 1]"
     },
     "execution_count": 4,
     "metadata": {},
     "output_type": "execute_result"
    }
   ],
   "source": [
    "Solution.twoSum(Solution,[3,3],6)\n",
    "\n"
   ],
   "metadata": {
    "collapsed": false,
    "pycharm": {
     "name": "#%%\n"
    }
   }
  }
 ],
 "metadata": {
  "kernelspec": {
   "display_name": "Python 3",
   "language": "python",
   "name": "python3"
  },
  "language_info": {
   "codemirror_mode": {
    "name": "ipython",
    "version": 2
   },
   "file_extension": ".py",
   "mimetype": "text/x-python",
   "name": "python",
   "nbconvert_exporter": "python",
   "pygments_lexer": "ipython2",
   "version": "2.7.6"
  }
 },
 "nbformat": 4,
 "nbformat_minor": 0
}