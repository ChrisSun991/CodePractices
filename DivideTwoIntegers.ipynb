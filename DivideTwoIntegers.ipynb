{
 "cells": [
  {
   "cell_type": "markdown",
   "metadata": {
    "collapsed": true,
    "pycharm": {
     "name": "#%% md\n"
    }
   },
   "source": [
    "Given two integers dividend and divisor, divide them and output the quotient, without using multiplication, division and mode operator.\n",
    "\n",
    "Note:\n",
    "\n",
    "Both dividend and divisor will be 32-bit signed integers.\n",
    "The divisor will never be 0.\n",
    "Assume we are dealing with an environment which could only store integers within the 32-bit signed integer range: [−2^31,  2^31 − 1]. For the purpose of this problem, assume that your function returns 2^31 − 1 when the division result overflows.\n",
    "https://prepfortech.in/interview-topics/modified-binary-search/divide-two-integers-leet-code/"
   ]
  },
  {
   "cell_type": "code",
   "execution_count": null,
   "outputs": [],
   "source": [
    "class Solution:\n",
    "    def divide(self, dividend: int, divisor: int) -> int:\n",
    "        if dividend == -2147483648 and divisor == -1:\n",
    "            return 2147483647\n",
    "        divisor, dividend = abs(divisor), abs(dividend)\n",
    "\n",
    "        res = 0\n",
    "        sums = divisor\n",
    "\n",
    "        while sums <= dividend:\n",
    "            current_res = 1\n",
    "            while(sums <<1 ) <= dividend:\n",
    "                sums <<= 1\n",
    "                current_res <<= 1\n",
    "            dividend -= sums\n",
    "            sums = divisor\n",
    "            res += current_res\n",
    "\n",
    "        return res if (dividend>0) == (divisor>0) else -res\n",
    "\n"
   ],
   "metadata": {
    "collapsed": false,
    "pycharm": {
     "name": "#%%\n"
    }
   }
  }
 ],
 "metadata": {
  "kernelspec": {
   "display_name": "Python 3",
   "language": "python",
   "name": "python3"
  },
  "language_info": {
   "codemirror_mode": {
    "name": "ipython",
    "version": 2
   },
   "file_extension": ".py",
   "mimetype": "text/x-python",
   "name": "python",
   "nbconvert_exporter": "python",
   "pygments_lexer": "ipython2",
   "version": "2.7.6"
  }
 },
 "nbformat": 4,
 "nbformat_minor": 0
}