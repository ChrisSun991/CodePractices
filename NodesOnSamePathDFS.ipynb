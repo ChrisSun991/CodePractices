{
 "cells": [
  {
   "cell_type": "markdown",
   "metadata": {
    "collapsed": true,
    "pycharm": {
     "name": "#%% md\n"
    }
   },
   "source": [
    "Problem Statement\n",
    "Given a tree and two nodes of tree and the task to check whether these two nodes are on the same path from root to the bottom or not.\n",
    "https://prepfortech.in/interview-topics/graphs/depth-first-search/nodes-are-on-same-path-in-a-tree-or-not/\n"
   ]
  },
  {
   "cell_type": "markdown",
   "source": [
    "Note: Any node in its sub-tree will always have intime < its children (or children of children) because it is always visited first before children (due to DFS) and will have outtime > all nodes in its sub-tree because before noting the outtime it waits for all of its children to be marked visited."
   ],
   "metadata": {
    "collapsed": false
   }
  },
  {
   "cell_type": "code",
   "execution_count": 1,
   "outputs": [],
   "source": [
    "def DFS(graph,v):\n",
    "     global intime, outtime, visit, MAX, timer\n",
    "     visit.add(v)\n",
    "\n",
    "     timer += 1\n",
    "\n",
    "     intime[v] = timer\n",
    "     it = 0\n",
    "\n",
    "     while it < len(graph[v]):\n",
    "        if (graph[v][it] not in visit):\n",
    "            DFS(graph, graph[v][it])\n",
    "        it += 1\n",
    "     timer += 1\n",
    "\n",
    "     outtime[v] = timer"
   ],
   "metadata": {
    "collapsed": false,
    "pycharm": {
     "name": "#%%\n"
    }
   }
  },
  {
   "cell_type": "code",
   "execution_count": 2,
   "outputs": [],
   "source": [
    "def query(u,v):\n",
    "    global intime, outtime, visit, MAX, timer\n",
    "    return ((intime[u] < intime[v] and outtime[u] > outtime[v]) or(intime[v] < intime[u] and outtime[v] > outtime[u]))\n",
    "MAX = 100001\n",
    "visit = set()\n",
    "intime = [0] * MAX\n",
    "outtime = [0] * MAX\n",
    "timer = 0"
   ],
   "metadata": {
    "collapsed": false,
    "pycharm": {
     "name": "#%%\n"
    }
   }
  },
  {
   "cell_type": "code",
   "execution_count": 3,
   "outputs": [],
   "source": [
    "n = 6\n",
    "Graph = [[] for i in range (n+1)]\n",
    "Graph[1].append(2)\n",
    "Graph[1].append(3)\n",
    "Graph[2].append(4)\n",
    "Graph[3].append(5)\n",
    "Graph[3].append(6)\n",
    "\n",
    "DFS(Graph, 1)"
   ],
   "metadata": {
    "collapsed": false,
    "pycharm": {
     "name": "#%%\n"
    }
   }
  },
  {
   "cell_type": "code",
   "execution_count": 4,
   "outputs": [
    {
     "data": {
      "text/plain": "True"
     },
     "execution_count": 4,
     "metadata": {},
     "output_type": "execute_result"
    }
   ],
   "source": [
    "query(1,5)"
   ],
   "metadata": {
    "collapsed": false,
    "pycharm": {
     "name": "#%%\n"
    }
   }
  },
  {
   "cell_type": "markdown",
   "source": [
    "Time Complexity O(n) preprocessing + O(1) per query\n",
    "Space Complexity O(n)\n"
   ],
   "metadata": {
    "collapsed": false
   }
  },
  {
   "cell_type": "code",
   "execution_count": null,
   "outputs": [],
   "source": [],
   "metadata": {
    "collapsed": false,
    "pycharm": {
     "name": "#%%\n"
    }
   }
  }
 ],
 "metadata": {
  "kernelspec": {
   "display_name": "Python 3",
   "language": "python",
   "name": "python3"
  },
  "language_info": {
   "codemirror_mode": {
    "name": "ipython",
    "version": 2
   },
   "file_extension": ".py",
   "mimetype": "text/x-python",
   "name": "python",
   "nbconvert_exporter": "python",
   "pygments_lexer": "ipython2",
   "version": "2.7.6"
  }
 },
 "nbformat": 4,
 "nbformat_minor": 0
}