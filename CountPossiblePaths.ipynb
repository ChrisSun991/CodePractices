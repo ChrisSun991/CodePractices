{
 "cells": [
  {
   "cell_type": "markdown",
   "metadata": {
    "collapsed": true,
    "pycharm": {
     "name": "#%% md\n"
    }
   },
   "source": [
    "Given the directed, connected and unweighted graph G, and the task to find the number of all paths possible between two given vertices.\n",
    "\n",
    "Note: The path does not contain any cycle which means path have finite number of vertices."
   ]
  },
  {
   "cell_type": "code",
   "execution_count": 10,
   "outputs": [],
   "source": [
    "class Graph:\n",
    "    def __init__(self,V):\n",
    "        self.V = V\n",
    "        self.adj = [[] for i in range (V)]\n",
    "    def addEdge(self,u,v):\n",
    "        self.adj[u].append(v)\n",
    "    def countPaths(self,s,d):\n",
    "        visited = [False] * self.V\n",
    "        pathCount = [0]\n",
    "        self.countPathsUtil(s,d,visited,pathCount)\n",
    "        return pathCount\n",
    "    def countPathsUtil(self,u,d,visited, pathCount):\n",
    "        visited[u] = True\n",
    "\n",
    "        if u==d:\n",
    "            pathCount[0] += 1\n",
    "        else:\n",
    "            i=0\n",
    "            while i < len(self.adj[u]):\n",
    "                if not visited[self.adj[u][i]]:\n",
    "                    self.countPathsUtil(self.adj[u][i],d,visited,pathCount)\n",
    "                    i += 1\n",
    "            visited[u] = False\n",
    "\n"
   ],
   "metadata": {
    "collapsed": false,
    "pycharm": {
     "name": "#%%\n"
    }
   }
  },
  {
   "cell_type": "code",
   "execution_count": null,
   "outputs": [],
   "source": [
    "g = Graph(4)\n",
    "g.addEdge(0, 1)\n",
    "g.addEdge(0, 2)\n",
    "g.addEdge(0, 3)\n",
    "g.addEdge(2, 0)\n",
    "g.addEdge(2, 1)\n",
    "g.addEdge(1, 3)\n",
    "\n",
    "s = 2\n",
    "d = 3\n",
    "print(g.countPaths(s, d))"
   ],
   "metadata": {
    "collapsed": false,
    "pycharm": {
     "name": "#%%\n",
     "is_executing": true
    }
   }
  },
  {
   "cell_type": "code",
   "execution_count": null,
   "outputs": [],
   "source": [],
   "metadata": {
    "collapsed": false,
    "pycharm": {
     "name": "#%%\n"
    }
   }
  }
 ],
 "metadata": {
  "kernelspec": {
   "display_name": "Python 3",
   "language": "python",
   "name": "python3"
  },
  "language_info": {
   "codemirror_mode": {
    "name": "ipython",
    "version": 2
   },
   "file_extension": ".py",
   "mimetype": "text/x-python",
   "name": "python",
   "nbconvert_exporter": "python",
   "pygments_lexer": "ipython2",
   "version": "2.7.6"
  }
 },
 "nbformat": 4,
 "nbformat_minor": 0
}