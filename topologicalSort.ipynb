{
 "cells": [
  {
   "cell_type": "markdown",
   "metadata": {
    "collapsed": true,
    "pycharm": {
     "name": "#%% md\n"
    }
   },
   "source": [
    "In graph theory, a topological sorting of a directed graph is a linear ordering of vertices of graph such that if there is a directed edge uv from vertex u to vertex v, u comes before v in the ordering.\n",
    "\n",
    "Note: Graph must be directed and acyclic.\n",
    "https://prepfortech.in/interview-topics/graphs/topological-sorting/"
   ]
  },
  {
   "cell_type": "code",
   "execution_count": 1,
   "outputs": [],
   "source": [
    "from collections import defaultdict\n",
    "\n",
    "Graph = defaultdict(list)\n",
    "\n",
    "def addEdge(u,v):\n",
    "    Graph[u].append(v)\n",
    "\n",
    "def helper(v,CheckVisited, sortGraph):\n",
    "    CheckVisited[v] = True\n",
    "\n",
    "    for i in Graph[v]:\n",
    "        if not CheckVisited[i]:\n",
    "            helper(i, CheckVisited,sortGraph)\n",
    "    sortGraph.insert(0,v)\n",
    "\n",
    "def topologicalSort(V):\n",
    "    CheckVisited = [False] * V\n",
    "    sortGraph = []\n",
    "\n",
    "    for i in range(V):\n",
    "        if not CheckVisited[i]:\n",
    "            helper(i,CheckVisited,sortGraph)\n",
    "    print(*sortGraph)"
   ],
   "metadata": {
    "collapsed": false,
    "pycharm": {
     "name": "#%%\n"
    }
   }
  },
  {
   "cell_type": "code",
   "execution_count": 2,
   "outputs": [
    {
     "name": "stdout",
     "output_type": "stream",
     "text": [
      "0 2 1 3\n"
     ]
    }
   ],
   "source": [
    "V = 4\n",
    "addEdge(0, 1)\n",
    "addEdge(0, 2)\n",
    "addEdge(0, 3)\n",
    "addEdge(1, 3)\n",
    "addEdge(2, 3)\n",
    "addEdge(2, 1)\n",
    "\n",
    "topologicalSort(V)"
   ],
   "metadata": {
    "collapsed": false,
    "pycharm": {
     "name": "#%%\n"
    }
   }
  }
 ],
 "metadata": {
  "kernelspec": {
   "display_name": "Python 3",
   "language": "python",
   "name": "python3"
  },
  "language_info": {
   "codemirror_mode": {
    "name": "ipython",
    "version": 2
   },
   "file_extension": ".py",
   "mimetype": "text/x-python",
   "name": "python",
   "nbconvert_exporter": "python",
   "pygments_lexer": "ipython2",
   "version": "2.7.6"
  }
 },
 "nbformat": 4,
 "nbformat_minor": 0
}