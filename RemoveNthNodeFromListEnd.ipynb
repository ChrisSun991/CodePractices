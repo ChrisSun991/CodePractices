{
 "cells": [
  {
   "cell_type": "markdown",
   "metadata": {
    "collapsed": true,
    "pycharm": {
     "name": "#%% md\n"
    }
   },
   "source": [
    "Given a linked list with N nodes, remove the kth node from end and return its head.\n",
    "\n",
    "Bonus: Do it in one iteration."
   ]
  },
  {
   "cell_type": "code",
   "execution_count": 2,
   "outputs": [
    {
     "name": "stdout",
     "output_type": "stream",
     "text": [
      "Created Linked list is:\n",
      "2 3 1 7 \n",
      "Linked List after Deletion is:\n",
      "2 3 1 "
     ]
    }
   ],
   "source": [
    "class Node:\n",
    "    def __init__(self,n_data):\n",
    "        self.data = n_data\n",
    "        self.next = None\n",
    "\n",
    "class LinkedList:\n",
    "    def __init__(self):\n",
    "        self.head = None\n",
    "\n",
    "    def push(self, new_data):\n",
    "        new_node = Node(new_data)\n",
    "        new_node.next=self.head\n",
    "        self.head = new_node\n",
    "\n",
    "    def deleteNode(self,n):\n",
    "        first = self.head\n",
    "        second = self.head\n",
    "        for i in range(n):\n",
    "\n",
    "            if second.next is None:\n",
    "                if i==n-1:\n",
    "                    self.head = self.head.next\n",
    "                return self.head\n",
    "            second = second.next\n",
    "\n",
    "        while second.next is not None:\n",
    "            second = second.next\n",
    "            first = first.next\n",
    "        first.next = first.next.next\n",
    "\n",
    "    def printList(self):\n",
    "        tmp = self.head\n",
    "        while tmp is not None:\n",
    "            print(tmp.data, end = ' ')\n",
    "            tmp = tmp.next\n",
    "\n",
    "llist = LinkedList()\n",
    "llist.push(7)\n",
    "llist.push(1)\n",
    "llist.push(3)\n",
    "llist.push(2)\n",
    "print(\"Created Linked list is:\")\n",
    "llist.printList()\n",
    "llist.deleteNode(1)\n",
    "print(\"\\nLinked List after Deletion is:\")\n",
    "llist.printList()"
   ],
   "metadata": {
    "collapsed": false,
    "pycharm": {
     "name": "#%%\n"
    }
   }
  },
  {
   "cell_type": "code",
   "execution_count": null,
   "outputs": [],
   "source": [],
   "metadata": {
    "collapsed": false,
    "pycharm": {
     "name": "#%%\n"
    }
   }
  }
 ],
 "metadata": {
  "kernelspec": {
   "display_name": "Python 3",
   "language": "python",
   "name": "python3"
  },
  "language_info": {
   "codemirror_mode": {
    "name": "ipython",
    "version": 2
   },
   "file_extension": ".py",
   "mimetype": "text/x-python",
   "name": "python",
   "nbconvert_exporter": "python",
   "pygments_lexer": "ipython2",
   "version": "2.7.6"
  }
 },
 "nbformat": 4,
 "nbformat_minor": 0
}