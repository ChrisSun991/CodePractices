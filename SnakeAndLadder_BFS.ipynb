{
 "cells": [
  {
   "cell_type": "markdown",
   "metadata": {
    "collapsed": true,
    "pycharm": {
     "name": "#%% md\n"
    }
   },
   "source": [
    "Problem statement\n",
    "Given a snake and ladder coordinates which represent the actual snake and ladder board, find the minimum number of dice throws required to reach the destination cell from source cell. This problem can be easily solved bu using 0-1 BFS.\n",
    "https://prepfortech.in/interview-topics/graphs/snake-and-ladder-problem/"
   ]
  },
  {
   "cell_type": "markdown",
   "source": [
    "Size = 100\n",
    "Snakes = {{24, 14},{56, 21}, {88, 34},{99, 3}}\n",
    "Ladders = {{4, 57},{18, 36},{44, 97},{67, 88}}\n",
    "Output = 7"
   ],
   "metadata": {
    "collapsed": false
   }
  },
  {
   "cell_type": "code",
   "execution_count": 1,
   "outputs": [],
   "source": [
    "class Board(object):\n",
    "    def __init__(self, v=0, dist=0):\n",
    "        self.v = v\n",
    "        self.dist =dist"
   ],
   "metadata": {
    "collapsed": false,
    "pycharm": {
     "name": "#%%\n"
    }
   }
  },
  {
   "cell_type": "code",
   "execution_count": 2,
   "outputs": [],
   "source": [
    "def SnakeAndLadder(board,size):\n",
    "    check_visited = [False] * size\n",
    "    Entry = []\n",
    "    check_visited[0] = True\n",
    "    Entry.append(Board(0,0))\n",
    "    while Entry:\n",
    "        Value = Entry.pop(0)\n",
    "        v = Value.v\n",
    "        if v == size-1:\n",
    "            break\n",
    "        j = v + 1\n",
    "        while j <= v + 6 and j < size:\n",
    "            if check_visited[j] is False:\n",
    "                a = Board()\n",
    "                a.dist = Value.dist + 1\n",
    "                check_visited[j] = True\n",
    "\n",
    "                a.v = board[j] if board[j] != -1 else j\n",
    "\n",
    "                Entry.append(a)\n",
    "            j += 1\n",
    "    return Value.dist"
   ],
   "metadata": {
    "collapsed": false,
    "pycharm": {
     "name": "#%%\n"
    }
   }
  },
  {
   "cell_type": "code",
   "execution_count": 3,
   "outputs": [],
   "source": [
    "Size = 100\n",
    "board = [-1] * Size\n",
    "# Ladders\n",
    "board[4] = 57\n",
    "board[18] = 36\n",
    "board[44] = 97\n",
    "board[67] = 88\n",
    "\n",
    "# Snakes\n",
    "board[24] = 14\n",
    "board[56] = 21\n",
    "board[88] = 34\n",
    "board[99] = 3"
   ],
   "metadata": {
    "collapsed": false,
    "pycharm": {
     "name": "#%%\n"
    }
   }
  },
  {
   "cell_type": "code",
   "execution_count": 4,
   "outputs": [
    {
     "data": {
      "text/plain": "7"
     },
     "execution_count": 4,
     "metadata": {},
     "output_type": "execute_result"
    }
   ],
   "source": [
    "SnakeAndLadder(board,size=Size)"
   ],
   "metadata": {
    "collapsed": false,
    "pycharm": {
     "name": "#%%\n"
    }
   }
  },
  {
   "cell_type": "code",
   "execution_count": null,
   "outputs": [],
   "source": [],
   "metadata": {
    "collapsed": false,
    "pycharm": {
     "name": "#%%\n"
    }
   }
  }
 ],
 "metadata": {
  "kernelspec": {
   "display_name": "Python 3",
   "language": "python",
   "name": "python3"
  },
  "language_info": {
   "codemirror_mode": {
    "name": "ipython",
    "version": 2
   },
   "file_extension": ".py",
   "mimetype": "text/x-python",
   "name": "python",
   "nbconvert_exporter": "python",
   "pygments_lexer": "ipython2",
   "version": "2.7.6"
  }
 },
 "nbformat": 4,
 "nbformat_minor": 0
}