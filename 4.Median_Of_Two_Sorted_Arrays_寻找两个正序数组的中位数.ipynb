{
 "cells": [
  {
   "cell_type": "markdown",
   "metadata": {
    "collapsed": true,
    "pycharm": {
     "name": "#%% md\n"
    }
   },
   "source": [
    "#### 4. 寻找两个正序数组的中位数\n",
    "###### 给定两个大小分别为 `m` 和 `n` 的正序（从小到大）数组 `nums1` 和 `nums2`。请你找出并返回这两个正序数组的 <b>中位数</b> 。\n",
    "###### Given two sorted arrays `nums1` and `nums2` of size `m` and `n` respectively, return <b>the median</b> of the two sorted arrays.\n",
    "\n",
    "###### 示例 1 Example 1：\n",
    "```\n",
    "输入 Input：nums1 = [1,3], nums2 = [2]\n",
    "输出 Output：2.00000\n",
    "解释 Description：合并数组 merged array = [1,2,3] ，中位数 median 2\n",
    "```\n",
    "###### 示例 2 Example 2：\n",
    "```\n",
    "输入 Input：nums1 = [1,2], nums2 = [3,4]\n",
    "输出 Output：2.50000\n",
    "解释 Description：合并数组 merged array = [1,2,3,4] ，中位数 median (2 + 3) / 2 = 2.5\n",
    "```\n",
    "###### 示例 3 Example 3 ：\n",
    "```\n",
    "输入 Input：nums1 = [0,0], nums2 = [0,0]\n",
    "输出 Output：0.00000\n",
    "```\n",
    "###### 示例 4 Example 4：\n",
    "```\n",
    "输入 Input：nums1 = [], nums2 = [1]\n",
    "输出 Output：1.00000\n",
    "```\n",
    "###### 示例 5 Example 5：\n",
    "```\n",
    "输入 Input：nums1 = [2], nums2 = []\n",
    "输出 Output：2.00000\n",
    "```\n",
    "\n",
    "###### 提示：\n",
    "###### <ul>\n",
    "###### <li> nums1.length == m </li>\n",
    "###### <li> nums2.length == n </li>\n",
    "###### <li> 0 <= m <= 1000 </li>\n",
    "###### <li> 0 <= n <= 1000 </li>\n",
    "###### <li> 1 <= m + n <= 2000 </li>\n",
    "###### <li> -106 <= nums1[i], nums2[i] <= 106 </li>\n",
    "\n",
    "###### 进阶：你能设计一个时间复杂度为 `O(log (m+n))` 的算法解决此问题吗？\n",
    "###### Follow up: The overall run time complexity should be `O(log (m+n))`.\n",
    "###### url: https://leetcode-cn.com/problems/median-of-two-sorted-arrays/"
   ]
  },
  {
   "cell_type": "code",
   "execution_count": 2,
   "outputs": [
    {
     "data": {
      "text/plain": "2"
     },
     "execution_count": 2,
     "metadata": {},
     "output_type": "execute_result"
    }
   ],
   "source": [
    "class Solution:\n",
    "    def findMedianSortedArrays(self, nums1: [int], nums2: [int]) -> float:\n",
    "\n",
    "        combine = nums1+nums2\n",
    "    #print (combine)\n",
    "        combine.sort()\n",
    "    #print (combine)\n",
    "        length = len(combine)\n",
    "\n",
    "        remainder = length % 2\n",
    "        if remainder != 0:\n",
    "            return combine[int((length-1)/2)]\n",
    "        else:\n",
    "            x = length/2\n",
    "            position1 = int(x)-1\n",
    "            position2 = int(x)\n",
    "        return (combine[position1]+combine[position2])/2\n",
    "Solution.findMedianSortedArrays(Solution,[1,3],[2])"
   ],
   "metadata": {
    "collapsed": false,
    "pycharm": {
     "name": "#%%\n"
    }
   }
  },
  {
   "cell_type": "code",
   "execution_count": 3,
   "outputs": [
    {
     "data": {
      "text/plain": "2.5"
     },
     "execution_count": 3,
     "metadata": {},
     "output_type": "execute_result"
    }
   ],
   "source": [
    "Solution.findMedianSortedArrays(Solution,[1,2],[3,4])"
   ],
   "metadata": {
    "collapsed": false,
    "pycharm": {
     "name": "#%%\n"
    }
   }
  },
  {
   "cell_type": "code",
   "execution_count": 4,
   "outputs": [
    {
     "data": {
      "text/plain": "0.0"
     },
     "execution_count": 4,
     "metadata": {},
     "output_type": "execute_result"
    }
   ],
   "source": [
    "Solution.findMedianSortedArrays(Solution,[0,0],[0,0])"
   ],
   "metadata": {
    "collapsed": false,
    "pycharm": {
     "name": "#%%\n"
    }
   }
  },
  {
   "cell_type": "code",
   "execution_count": 5,
   "outputs": [
    {
     "data": {
      "text/plain": "1"
     },
     "execution_count": 5,
     "metadata": {},
     "output_type": "execute_result"
    }
   ],
   "source": [
    "Solution.findMedianSortedArrays(Solution,[],[1])"
   ],
   "metadata": {
    "collapsed": false,
    "pycharm": {
     "name": "#%%\n"
    }
   }
  },
  {
   "cell_type": "code",
   "execution_count": 6,
   "outputs": [
    {
     "data": {
      "text/plain": "2"
     },
     "execution_count": 6,
     "metadata": {},
     "output_type": "execute_result"
    }
   ],
   "source": [
    "Solution.findMedianSortedArrays(Solution,[2],[])\n"
   ],
   "metadata": {
    "collapsed": false,
    "pycharm": {
     "name": "#%%\n"
    }
   }
  }
 ],
 "metadata": {
  "kernelspec": {
   "display_name": "Python 3",
   "language": "python",
   "name": "python3"
  },
  "language_info": {
   "codemirror_mode": {
    "name": "ipython",
    "version": 2
   },
   "file_extension": ".py",
   "mimetype": "text/x-python",
   "name": "python",
   "nbconvert_exporter": "python",
   "pygments_lexer": "ipython2",
   "version": "2.7.6"
  }
 },
 "nbformat": 4,
 "nbformat_minor": 0
}