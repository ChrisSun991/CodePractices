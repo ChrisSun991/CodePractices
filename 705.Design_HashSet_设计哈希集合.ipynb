{
 "cells": [
  {
   "cell_type": "markdown",
   "metadata": {
    "collapsed": true,
    "pycharm": {
     "name": "#%% md\n"
    }
   },
   "source": [
    "#### 705. 设计哈希集合\n",
    "###### 不使用任何内建的哈希表库设计一个哈希集合（HashSet）。\n",
    "###### Design a HashSet without using any built-in hash table libraries.\n",
    "\n",
    "###### 实现 `MyHashSet` 类：\n",
    "###### Implement `MyHashSet` class:\n",
    "###### <ul>\n",
    "###### <li> `void add(key)` 向哈希集合中插入值 `key` 。 `void add(key)` Inserts the value key into the `HashSet`. </li>\n",
    "###### <li> `bool contains(key)` 返回哈希集合中是否存在这个值 `key` 。 `bool contains(key)` Returns whether the value `key` exists in the HashSet or not.</li>\n",
    "###### <li> `void remove(key)` 将给定值 `key` 从哈希集合中删除。如果哈希集合中没有这个值，什么也不做。 `void remove(key)` Removes the value `key` in the HashSet. If `key` does not exist in the HashSet, do nothing. </li>\n",
    "###### </ul>\n",
    "\n",
    "###### 示例 1 Example 1：\n",
    "```\n",
    "输入 Input：\n",
    "[\"MyHashSet\", \"add\", \"add\", \"contains\", \"contains\", \"add\", \"contains\", \"remove\", \"contains\"]\n",
    "[[], [1], [2], [1], [3], [2], [2], [2], [2]]\n",
    "输出 Output：\n",
    "[null, null, null, true, false, null, true, null, false]\n",
    "解释 Description：\n",
    "MyHashSet myHashSet = new MyHashSet();\n",
    "myHashSet.add(1);      // set = [1]\n",
    "myHashSet.add(2);      // set = [1, 2]\n",
    "myHashSet.contains(1); // 返回 return True\n",
    "myHashSet.contains(3); // 返回 return False ，（未找到） (not found)\n",
    "myHashSet.add(2);      // set = [1, 2]\n",
    "myHashSet.contains(2); // 返回 return True\n",
    "myHashSet.remove(2);   // set = [1]\n",
    "myHashSet.contains(2); // 返回 return False ，（已移除）(already removed)\n",
    "```\n",
    "###### 提示 Constraints：\n",
    "###### <ul>\n",
    "###### <li> `0 <= key <= 106` </li>\n",
    "###### <li> 最多调用 104 次 add、remove 和 contains 。 </li>\n",
    "###### </ul>\n",
    "###### 进阶：你可以不使用内建的哈希集合库解决此问题吗？\n",
    "###### Follow up: Could you solve the problem without using the built-in HashSet library?"
   ]
  },
  {
   "cell_type": "code",
   "execution_count": 1,
   "outputs": [],
   "source": [
    "class MyHashSet:\n",
    "\n",
    "    def __init__(self):\n",
    "        \"\"\"\n",
    "        Initialize your data structure here.\n",
    "        \"\"\"\n",
    "        self.set = [False] * 1000001\n",
    "\n",
    "    def add(self, key: int) -> None:\n",
    "        self.set[key] = True\n",
    "\n",
    "    def remove(self, key: int) -> None:\n",
    "        self.set[key] = False\n",
    "\n",
    "    def contains(self, key: int) -> bool:\n",
    "        \"\"\"\n",
    "        Returns true if this set contains the specified element\n",
    "        \"\"\"\n",
    "        return self.set[key]\n",
    "\n",
    "\n",
    "# Your MyHashSet object will be instantiated and called as such:\n",
    "# obj = MyHashSet()\n",
    "# obj.add(key)\n",
    "# obj.remove(key)\n",
    "# param_3 = obj.contains(key)\n",
    "\n"
   ],
   "metadata": {
    "collapsed": false,
    "pycharm": {
     "name": "#%%\n"
    }
   }
  }
 ],
 "metadata": {
  "kernelspec": {
   "display_name": "Python 3",
   "language": "python",
   "name": "python3"
  },
  "language_info": {
   "codemirror_mode": {
    "name": "ipython",
    "version": 2
   },
   "file_extension": ".py",
   "mimetype": "text/x-python",
   "name": "python",
   "nbconvert_exporter": "python",
   "pygments_lexer": "ipython2",
   "version": "2.7.6"
  }
 },
 "nbformat": 4,
 "nbformat_minor": 0
}