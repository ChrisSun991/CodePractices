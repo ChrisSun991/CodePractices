{
 "cells": [
  {
   "cell_type": "markdown",
   "metadata": {
    "collapsed": true,
    "pycharm": {
     "name": "#%% md\n"
    }
   },
   "source": [
    "#### 1029. 两地调度\n",
    "###### 公司计划面试 `2N` 人。第 `i` 人飞往 `A` 市的费用为 `costs[i][0]`，飞往 `B` 市的费用为 `costs[i][1]`。\n",
    "###### A company is planning to interview `2n` people. Given the array costs where $costs[i] = [aCost_i, bCost_i]$, the cost of flying the $i^{th}$ person to city `a` is $aCost_i$, and the cost of flying the $i^{th}$ person to city `b` is $bCost_i$.\n",
    "\n",
    "###### 返回将每个人都飞到某座城市的最低费用，要求每个城市都有 `N` 人抵达。\n",
    "###### Return the minimum cost to fly every person to a city such that exactly `n` people arrive in each city.\n",
    "\n",
    "###### 示例 1 Example 1:\n",
    "```\n",
    "输入 Input：costs = [[10,20],[30,200],[400,50],[30,20]]\n",
    "输出 Output：110\n",
    "\n",
    "解释 Explanation：\n",
    "第一个人去 A 市，费用为 10。\n",
    "The first person goes to city A for a cost of 10.\n",
    "第二个人去 A 市，费用为 30。\n",
    "The second person goes to city A for a cost of 30.\n",
    "第三个人去 B 市，费用为 50。\n",
    "The third person goes to city B for a cost of 50.\n",
    "第四个人去 B 市，费用为 20。\n",
    "The fourth person goes to city B for a cost of 20.\n",
    "\n",
    "最低总费用为 10 + 30 + 50 + 20 = 110，每个城市都有一半的人在面试。\n",
    "The total minimum cost is 10 + 30 + 50 + 20 = 110 to have half the people interviewing in each city.\n",
    "```\n",
    "\n",
    "###### 示例 2 Example 2:\n",
    "```\n",
    "输入 Input: costs = [[259,770],[448,54],[926,667],[184,139],[840,118],[577,469]]\n",
    "输出 Output: 1859\n",
    "```\n",
    "\n",
    "###### 示例 3 Example 3:\n",
    "```\n",
    "输入 Input: costs = [[515,563],[451,713],[537,709],[343,819],[855,779],[457,60],[650,359],[631,42]]\n",
    "输出 Output: 3086\n",
    "```\n",
    "\n",
    "###### Tips 提示/Constraints：\n",
    "###### <ul>\n",
    "###### <li> 1 <= costs.length <= 100 </li>\n",
    "###### <li> costs.length 为偶数 is even.</li>\n",
    "###### <li> 1 <= costs[i][0], costs[i][1] <= 1000 </li>\n",
    "###### <li> 2 <= costs <= 100 </li>\n",
    "###### </ul>"
   ]
  },
  {
   "cell_type": "code",
   "execution_count": 2,
   "outputs": [
    {
     "data": {
      "text/plain": "110"
     },
     "execution_count": 2,
     "metadata": {},
     "output_type": "execute_result"
    }
   ],
   "source": [
    "class Solution:\n",
    "    def twoCitySchedCost(self, costs: [[int]]) -> int:\n",
    "        length = len(costs)\n",
    "\n",
    "        costs.sort(key = lambda x : x[0] - x[1])\n",
    "\n",
    "        total = 0\n",
    "        n = len(costs) // 2\n",
    "        # To optimize the company expenses,\n",
    "        # send the first n persons to the city A\n",
    "        # and the others to the city B\n",
    "        for i in range(length//2):\n",
    "            total += costs[i][0] + costs[i + length//2][1]\n",
    "        return total\n",
    "Solution.twoCitySchedCost(Solution,[[10,20],[30,200],[400,50],[30,20]])"
   ],
   "metadata": {
    "collapsed": false,
    "pycharm": {
     "name": "#%%\n"
    }
   }
  },
  {
   "cell_type": "code",
   "execution_count": 3,
   "outputs": [
    {
     "data": {
      "text/plain": "1859"
     },
     "execution_count": 3,
     "metadata": {},
     "output_type": "execute_result"
    }
   ],
   "source": [
    "Solution.twoCitySchedCost(Solution,[[259,770],[448,54],[926,667],[184,139],[840,118],[577,469]])"
   ],
   "metadata": {
    "collapsed": false,
    "pycharm": {
     "name": "#%%\n"
    }
   }
  },
  {
   "cell_type": "code",
   "execution_count": 4,
   "outputs": [
    {
     "data": {
      "text/plain": "3086"
     },
     "execution_count": 4,
     "metadata": {},
     "output_type": "execute_result"
    }
   ],
   "source": [
    "Solution.twoCitySchedCost(Solution,[[515,563],[451,713],[537,709],[343,819],[855,779],[457,60],[650,359],[631,42]])\n",
    "\n",
    "\n"
   ],
   "metadata": {
    "collapsed": false,
    "pycharm": {
     "name": "#%%\n"
    }
   }
  }
 ],
 "metadata": {
  "kernelspec": {
   "display_name": "Python 3",
   "language": "python",
   "name": "python3"
  },
  "language_info": {
   "codemirror_mode": {
    "name": "ipython",
    "version": 2
   },
   "file_extension": ".py",
   "mimetype": "text/x-python",
   "name": "python",
   "nbconvert_exporter": "python",
   "pygments_lexer": "ipython2",
   "version": "2.7.6"
  }
 },
 "nbformat": 4,
 "nbformat_minor": 0
}