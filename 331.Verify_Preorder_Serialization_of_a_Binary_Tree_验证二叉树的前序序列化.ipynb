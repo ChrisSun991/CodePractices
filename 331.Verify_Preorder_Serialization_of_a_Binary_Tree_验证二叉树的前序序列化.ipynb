{
 "cells": [
  {
   "cell_type": "markdown",
   "metadata": {
    "collapsed": true,
    "pycharm": {
     "name": "#%% md\n"
    }
   },
   "source": [
    "#### 331. 验证二叉树的前序序列化\n",
    "###### 序列化二叉树的一种方法是使用前序遍历。当我们遇到一个非空节点时，我们可以记录下这个节点的值。如果它是一个空节点，我们可以使用一个标记值记录，例如 `#`。\n",
    "###### One way to serialize a binary tree is to use preorder traversal. When we encounter a non-null node, we record the node's value. If it is a null node, we record using a sentinel value such as `#`.\n",
    "```\n",
    "     _9_\n",
    "    /   \\\n",
    "   3     2\n",
    "  / \\   / \\\n",
    " 4   1  #  6\n",
    "/ \\ / \\   / \\\n",
    "# # # #   # #\n",
    "```\n",
    "###### 例如，上面的二叉树可以被序列化为字符串 `\"9,3,4,#,#,1,#,#,2,#,6,#,#\"`，其中 `#` 代表一个空节点。\n",
    "###### For example, the above binary tree can be serialized to the string `\"9,3,4,#,#,1,#,#,2,#,6,#,#\"`, where `'#'` represents a null node.\n",
    "\n",
    "###### 给定一串以逗号分隔的序列，验证它是否是正确的二叉树的前序序列化。编写一个在不重构树的条件下的可行算法。\n",
    "###### Given a string of comma-separated values `preorder`, return `true` if it is a correct preorder traversal serialization of a binary tree.\n",
    "\n",
    "###### 每个以逗号分隔的字符或为一个整数或为一个表示 `null` 指针的 `'#'` 。\n",
    "###### It is <b>guaranteed</b> that each comma-separated value in the string must be either an integer or a character `'#'` representing null pointer.\n",
    "\n",
    "###### 你可以认为输入格式总是有效的，例如它永远不会包含两个连续的逗号，比如 `\"1,,3\"` 。\n",
    "###### You may assume that the input format is always valid. For example, it could never contain two consecutive commas, such as `\"1,,3\"`.\n",
    "###### 示例 1 Example 1:\n",
    "```\n",
    "输入: \"9,3,4,#,#,1,#,#,2,#,6,#,#\"\n",
    "输出: true\n",
    "```\n",
    "\n",
    "###### 示例 2 Example 2:\n",
    "```\n",
    "输入: \"1,#\"\n",
    "输出: false\n",
    "```\n",
    "###### 示例 3 Example 3:\n",
    "```\n",
    "输入: \"9,#,#,1\"\n",
    "输出: false\n",
    "```\n",
    "\n",
    "##### Constraints:\n",
    "###### <ul>\n",
    "###### <li>`1 <= preorder.length <= 104` </li>\n",
    "###### <li>preoder consist of integers in the range `[0, 100]` and `'#'` separated by commas `','`. </li>\n",
    "\n",
    "###### <b>Follow up</b>: Find an algorithm without reconstructing the tree.\n",
    "\n",
    "###### url: https://leetcode-cn.com/problems/verify-preorder-serialization-of-a-binary-tree/"
   ]
  },
  {
   "cell_type": "code",
   "execution_count": 4,
   "outputs": [
    {
     "data": {
      "text/plain": "True"
     },
     "execution_count": 4,
     "metadata": {},
     "output_type": "execute_result"
    }
   ],
   "source": [
    "class Solution:\n",
    "    def isValidSerialization(self, preorder: str) -> bool:\n",
    "        preorder = preorder.split(\",\")\n",
    "        total = 1\n",
    "\n",
    "        for n in preorder:\n",
    "            total -= 1\n",
    "            if total < 0:\n",
    "                return False\n",
    "            if n != '#':\n",
    "                total += 2\n",
    "\n",
    "        return total == 0\n",
    "Solution.isValidSerialization(Solution,\"9,3,4,#,#,1,#,#,2,#,6,#,#\")"
   ],
   "metadata": {
    "collapsed": false,
    "pycharm": {
     "name": "#%%\n"
    }
   }
  },
  {
   "cell_type": "code",
   "execution_count": 5,
   "outputs": [
    {
     "data": {
      "text/plain": "False"
     },
     "execution_count": 5,
     "metadata": {},
     "output_type": "execute_result"
    }
   ],
   "source": [
    "Solution.isValidSerialization(Solution,\"1,#\")"
   ],
   "metadata": {
    "collapsed": false,
    "pycharm": {
     "name": "#%%\n"
    }
   }
  },
  {
   "cell_type": "code",
   "execution_count": 6,
   "outputs": [
    {
     "data": {
      "text/plain": "False"
     },
     "execution_count": 6,
     "metadata": {},
     "output_type": "execute_result"
    }
   ],
   "source": [
    "Solution.isValidSerialization(Solution,\"9,#,#,1\")\n"
   ],
   "metadata": {
    "collapsed": false,
    "pycharm": {
     "name": "#%%\n"
    }
   }
  }
 ],
 "metadata": {
  "kernelspec": {
   "display_name": "Python 3",
   "language": "python",
   "name": "python3"
  },
  "language_info": {
   "codemirror_mode": {
    "name": "ipython",
    "version": 2
   },
   "file_extension": ".py",
   "mimetype": "text/x-python",
   "name": "python",
   "nbconvert_exporter": "python",
   "pygments_lexer": "ipython2",
   "version": "2.7.6"
  }
 },
 "nbformat": 4,
 "nbformat_minor": 0
}