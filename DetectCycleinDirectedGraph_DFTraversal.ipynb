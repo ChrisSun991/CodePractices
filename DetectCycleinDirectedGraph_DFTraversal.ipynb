{
 "cells": [
  {
   "cell_type": "markdown",
   "metadata": {
    "collapsed": true,
    "pycharm": {
     "name": "#%% md\n"
    }
   },
   "source": [
    "Problem Statement\n",
    "Given the directed, connected and unweighted graph G and the task to check whether the graph contains a cycle or not.\n",
    "https://prepfortech.in/interview-topics/graphs/depth-first-search/detect-cycle-in-a-directed-graph/"
   ]
  },
  {
   "cell_type": "code",
   "execution_count": 1,
   "outputs": [],
   "source": [
    "from collections import defaultdict\n",
    "\n",
    "Graph = []\n",
    "V = 0\n",
    "def graph_add(x):\n",
    "    global Graph,V\n",
    "    Graph =defaultdict(list)\n",
    "    V = x\n",
    "\n",
    "def addEdge(u,v):\n",
    "    global Graph\n",
    "    Graph[u].append(v)\n",
    "\n",
    "def DetectCycle(v, CheckVisited, res):\n",
    "    CheckVisited[v] = True\n",
    "    res[v] = True\n",
    "\n",
    "    for vert in Graph[v]:\n",
    "        if not CheckVisited[vert]:\n",
    "            if DetectCycle(vert,CheckVisited,res):\n",
    "                return True\n",
    "        elif res[vert]:\n",
    "            return True\n",
    "    res[v] = False\n",
    "    return False\n",
    "\n",
    "def isCyclic():\n",
    "    CheckVisited = [False]*V\n",
    "    Result = [False]*V\n",
    "    for node in range(V):\n",
    "        if CheckVisited[node] == False:\n",
    "            if DetectCycle(node,CheckVisited,res=Result):\n",
    "                return True\n",
    "    return False\n"
   ],
   "metadata": {
    "collapsed": false,
    "pycharm": {
     "name": "#%%\n"
    }
   }
  },
  {
   "cell_type": "code",
   "execution_count": 3,
   "outputs": [],
   "source": [
    "graph_add(4)\n",
    "addEdge(0, 1)\n",
    "addEdge(0, 2)\n",
    "addEdge(0, 3)\n",
    "addEdge(1, 3)\n",
    "addEdge(2, 1)\n",
    "addEdge(2, 3)"
   ],
   "metadata": {
    "collapsed": false,
    "pycharm": {
     "name": "#%%\n"
    }
   }
  },
  {
   "cell_type": "code",
   "execution_count": 4,
   "outputs": [
    {
     "data": {
      "text/plain": "False"
     },
     "execution_count": 4,
     "metadata": {},
     "output_type": "execute_result"
    }
   ],
   "source": [
    "isCyclic()"
   ],
   "metadata": {
    "collapsed": false,
    "pycharm": {
     "name": "#%%\n"
    }
   }
  },
  {
   "cell_type": "code",
   "execution_count": null,
   "outputs": [],
   "source": [],
   "metadata": {
    "collapsed": false,
    "pycharm": {
     "name": "#%%\n"
    }
   }
  }
 ],
 "metadata": {
  "kernelspec": {
   "display_name": "Python 3",
   "language": "python",
   "name": "python3"
  },
  "language_info": {
   "codemirror_mode": {
    "name": "ipython",
    "version": 2
   },
   "file_extension": ".py",
   "mimetype": "text/x-python",
   "name": "python",
   "nbconvert_exporter": "python",
   "pygments_lexer": "ipython2",
   "version": "2.7.6"
  }
 },
 "nbformat": 4,
 "nbformat_minor": 0
}