{
 "cells": [
  {
   "cell_type": "markdown",
   "metadata": {
    "collapsed": true,
    "pycharm": {
     "name": "#%% md\n"
    }
   },
   "source": [
    "#### 5. 最长回文子串\n",
    "###### 给你一个字符串 `s`，找到 `s` 中最长的回文子串。\n",
    "###### Given a string `s`, return <i>the longest palindromic substring </i>in `s`.\n",
    "###### 示例 Example 1：\n",
    "```\n",
    "输入 Input：s = \"babad\"\n",
    "输出 Output：\"bab\"\n",
    "解释 Description：\"aba\" is also a valid answer 同样是符合题意的答案。\n",
    "```\n",
    "###### 示例 Example 2：\n",
    "```\n",
    "输入 Input：s = \"cbbd\"\n",
    "输出 Output：\"bb\"\n",
    "```\n",
    "###### 示例 Example 3：\n",
    "```\n",
    "输入 Input：s = \"a\"\n",
    "输出 Output：\"a\"\n",
    "```\n",
    "###### 示例 Example 4：\n",
    "```\n",
    "输入 Input：s = \"ac\"\n",
    "输出 Output：\"a\"\n",
    "```\n",
    "\n",
    "###### 提示 Constraints：\n",
    "###### <ul>\n",
    "###### <li> `1 <= s.length <= 1000`</li>\n",
    "###### <li> `s` 仅由数字和英文字母（大写和/或小写）组成</li>\n",
    "###### </ul>"
   ]
  },
  {
   "cell_type": "code",
   "execution_count": 2,
   "outputs": [
    {
     "data": {
      "text/plain": "'bab'"
     },
     "execution_count": 2,
     "metadata": {},
     "output_type": "execute_result"
    }
   ],
   "source": [
    "class Solution:\n",
    "\n",
    "    def expand(self, s: str, left: int, right: int) -> int:\n",
    "        while left >= 0 and right < len(s) and s[left] == s[right]:\n",
    "            left -= 1\n",
    "            right += 1\n",
    "        return left + 1, right - 1\n",
    "\n",
    "    def longestPalindrome(self,s: str) -> str:\n",
    "        if s == \"\":\n",
    "            return s\n",
    "        start,end = 0,0\n",
    "        for i in range (len(s)):\n",
    "            l1,r1 = self.expand(self,s,i,i)\n",
    "            l2,r2 = self.expand(self,s,i,i+1)\n",
    "\n",
    "            if r1 - l1 > end-start:\n",
    "                start,end =l1,r1\n",
    "            if r2 - l2 > end-start:\n",
    "                start,end = l2,r2\n",
    "        return s[start:end+1]\n",
    "Solution.longestPalindrome(Solution,\"babad\")"
   ],
   "metadata": {
    "collapsed": false,
    "pycharm": {
     "name": "#%%\n"
    }
   }
  },
  {
   "cell_type": "code",
   "execution_count": 3,
   "outputs": [
    {
     "data": {
      "text/plain": "'bb'"
     },
     "execution_count": 3,
     "metadata": {},
     "output_type": "execute_result"
    }
   ],
   "source": [
    "Solution.longestPalindrome(Solution,\"cbbd\")"
   ],
   "metadata": {
    "collapsed": false,
    "pycharm": {
     "name": "#%%\n"
    }
   }
  },
  {
   "cell_type": "code",
   "execution_count": 4,
   "outputs": [
    {
     "data": {
      "text/plain": "'a'"
     },
     "execution_count": 4,
     "metadata": {},
     "output_type": "execute_result"
    }
   ],
   "source": [
    "Solution.longestPalindrome(Solution,\"a\")"
   ],
   "metadata": {
    "collapsed": false,
    "pycharm": {
     "name": "#%%\n"
    }
   }
  },
  {
   "cell_type": "code",
   "execution_count": 5,
   "outputs": [
    {
     "data": {
      "text/plain": "'a'"
     },
     "execution_count": 5,
     "metadata": {},
     "output_type": "execute_result"
    }
   ],
   "source": [
    "Solution.longestPalindrome(Solution,\"ac\")\n"
   ],
   "metadata": {
    "collapsed": false,
    "pycharm": {
     "name": "#%%\n"
    }
   }
  },
  {
   "cell_type": "code",
   "execution_count": null,
   "outputs": [],
   "source": [],
   "metadata": {
    "collapsed": false,
    "pycharm": {
     "name": "#%%\n"
    }
   }
  }
 ],
 "metadata": {
  "kernelspec": {
   "display_name": "Python 3",
   "language": "python",
   "name": "python3"
  },
  "language_info": {
   "codemirror_mode": {
    "name": "ipython",
    "version": 2
   },
   "file_extension": ".py",
   "mimetype": "text/x-python",
   "name": "python",
   "nbconvert_exporter": "python",
   "pygments_lexer": "ipython2",
   "version": "2.7.6"
  }
 },
 "nbformat": 4,
 "nbformat_minor": 0
}